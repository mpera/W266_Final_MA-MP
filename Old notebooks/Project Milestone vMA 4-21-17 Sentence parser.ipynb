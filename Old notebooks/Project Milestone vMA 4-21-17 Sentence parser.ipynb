{
 "cells": [
  {
   "cell_type": "markdown",
   "metadata": {},
   "source": [
    "## W266 Final Project: Project Milestone\n",
    "\n",
    "### Classifying the Political Ideology of News Articles\n",
    "\n",
    "#### Matt Acconciamessa and Megan Pera\n",
    "\n"
   ]
  },
  {
   "cell_type": "code",
   "execution_count": 2,
   "metadata": {
    "collapsed": false
   },
   "outputs": [],
   "source": [
    "%matplotlib inline\n",
    "\n",
    "# Import necessary libraries\n",
    "import pickle\n",
    "import numpy as np\n",
    "from scipy import sparse\n",
    "import collections\n",
    "import matplotlib.pyplot as plt\n",
    "\n",
    "from sklearn.feature_extraction.text import *\n",
    "from sklearn.linear_model import LogisticRegression\n",
    "from sklearn.naive_bayes import BernoulliNB\n",
    "from sklearn.naive_bayes import MultinomialNB\n",
    "from sklearn.grid_search import GridSearchCV\n",
    "from sklearn import metrics"
   ]
  },
  {
   "cell_type": "markdown",
   "metadata": {},
   "source": [
    "### Loading, Cleaning and Exploring Data"
   ]
  },
  {
   "cell_type": "code",
   "execution_count": 3,
   "metadata": {
    "collapsed": false
   },
   "outputs": [],
   "source": [
    "# Load and save data into liberal, conservative and neutral objects\n",
    "[lib, con, neutral] = pickle.load(open('ibcData.pkl', 'rb'))"
   ]
  },
  {
   "cell_type": "code",
   "execution_count": 4,
   "metadata": {
    "collapsed": false
   },
   "outputs": [
    {
     "name": "stdout",
     "output_type": "stream",
     "text": [
      "Liberal examples (out of  2025  sentences): \n",
      "Forcing middle-class workers to bear a greater share of the cost of government weakens their support for needed investments and stirs resentment toward those who depend on public services the most .\n",
      "Because it would not be worthwhile to bring a case for $ 30.22 , the arbitration clause would , as a practical matter , deny the Concepcions any relief and , more important , eliminate a class action that might punish AT&T for its pattern of fraudulent behavior .\n",
      "Indeed , Lind argues that high profits and high wages reinforce each other because workers then have the wherewithal to buy the products they are making .\n",
      "In fairness , it should be noted that he devotes an entire chapter to New York Times political columnist Maureen Dowd , a liberal who makes much of the outsized rivalries , jealousies , and personalities that dominate American politics .\n",
      "Psychological tactics are social control techniques that operate at the level of the mind , with the goal of creating fear and making it difficult for protesters to successfully mobilize .\n",
      "\n",
      "Conservative examples (out of  1701  sentences): \n",
      "Gore is getting rich from environmentalism , not just by being paid a whopping $ 175,000 per speech but by using political pressure to force government policy in a direction that benefits his business interests .\n",
      "The Federal Housing Finance Regulatory Reform Act of 2008 should have been an easy sell , since it purportedly aimed to assist homeowners , a more popular ( or at least more sentimentalized ) subset of Americans than greedy Wall Street tycoons .\n",
      "Yet for all its submerged class snobbery and anti-intellectualism disguised as cool detachment , the ultimate failure of the Washington media lies less with the personal failings of its elite members than its structural inadequacy .\n",
      "Rumsfeld then went on to discuss how China 's lack of transparency with respect to its defense expenditures and activities raises doubts in the region about China 's intentions .\n",
      "You never hear from the co-conspirators of the left-wing media how many innocent victims are dead , raped , and mutilated as a direct result of these left-wing policies and insane anti-gun laws .\n",
      "\n",
      "Neutral examples (out of  600  sentences): \n",
      "In this country , the beneficiaries of Apple 's success are , first , the designers , who have done wonders working with Steve Jobs to produce products that are beautiful and effective .\n",
      "The problem with this argument is that China reports about 68 percent of the world 's aquaculture production , and the FAO , which has been burned by inflated Chinese statistics before , expresses doubt about its stated production and growth rates . ''\n",
      "The soil exhaustion caused by the plantation system , as well as the relatively low productivity of forced labor , compelled planters to seek new lands to exploit .\n",
      "The same complexity that leads to such malfunctions also creates vulnerabilities that human agents can use to make computer systems operate in unintended ways .\n",
      "Threads of new awkwardness stretch out between them , and nature itself winks behind their backs and plays nasty tricks on them , scattering yellow clods of asters and groundsel , blanketing purple clover and pink flax , erecting stalks of huge -- but smelly -- purple arum flowers , sprinkling red buttercups , and hanging baby oranges and lemons on the trees around them .\n"
     ]
    }
   ],
   "source": [
    "# Data samples, by classification\n",
    "print ('Liberal examples (out of ', len(lib), ' sentences): ')\n",
    "for tree in lib[0:5]:\n",
    "    print(tree.get_words())\n",
    "    \n",
    "print ('\\nConservative examples (out of ', len(con), ' sentences): ')\n",
    "for tree in con[0:5]:\n",
    "    print (tree.get_words())\n",
    "    \n",
    "print ('\\nNeutral examples (out of ', len(neutral), ' sentences): ')\n",
    "for tree in neutral[0:5]:\n",
    "    print (tree.get_words())"
   ]
  },
  {
   "cell_type": "code",
   "execution_count": 5,
   "metadata": {
    "collapsed": true
   },
   "outputs": [],
   "source": [
    "# Formatting data into workable arrays\n",
    "liberal = np.array(lib)\n",
    "conserv = np.array(con)\n",
    "neut = np.array(neutral)\n",
    "\n",
    "# Seprating data and labels\n",
    "def separate_data_and_labels(label_class):\n",
    "    labels = []\n",
    "    data = []\n",
    "    for i in range(len(label_class)):\n",
    "        for node in label_class[i]:\n",
    "            if hasattr(node, 'label'):\n",
    "                data.append(node.get_words())\n",
    "                labels.append(node.label)\n",
    "    data = np.array(data)\n",
    "    labels = np.array(labels)\n",
    "    return data, labels\n",
    "\n",
    "lib_data, lib_labs = separate_data_and_labels(liberal)\n",
    "con_data, con_labs = separate_data_and_labels(conserv)\n",
    "neut_data, neut_labs = separate_data_and_labels(neut)"
   ]
  },
  {
   "cell_type": "code",
   "execution_count": 6,
   "metadata": {
    "collapsed": false
   },
   "outputs": [
    {
     "name": "stdout",
     "output_type": "stream",
     "text": [
      "Examples:\n",
      "\n",
      " Liberal\n",
      "Forcing middle-class workers to bear a greater share of the cost of government weakens their support for needed investments and stirs resentment toward those who depend on public services the most . \n",
      " ['Liberal' 'Liberal' 'Liberal' 'Liberal' 'Liberal' 'Liberal' 'Liberal'\n",
      " 'Liberal' 'Liberal' 'Liberal']\n",
      "\n",
      " Conservative\n",
      "Gore is getting rich from environmentalism , not just by being paid a whopping $ 175,000 per speech but by using political pressure to force government policy in a direction that benefits his business interests . \n",
      " ['Conservative' 'Conservative' 'Conservative' 'Conservative' 'Neutral'\n",
      " 'Neutral' 'Neutral' 'Conservative' 'Liberal' 'Liberal']\n",
      "\n",
      " Neutral\n",
      "In this country , the beneficiaries of Apple 's success are , first , the designers , who have done wonders working with Steve Jobs to produce products that are beautiful and effective . \n",
      " ['Neutral' 'Neutral' 'Neutral' 'Neutral' 'Neutral' 'Neutral' 'Neutral'\n",
      " 'Neutral' 'Neutral' 'Neutral']\n"
     ]
    }
   ],
   "source": [
    "print('Examples:')\n",
    "print ('\\n Liberal')\n",
    "print(lib_data[0],'\\n',lib_labs[0:10])\n",
    "print ('\\n Conservative')\n",
    "print(con_data[0],'\\n',con_labs[0:10])\n",
    "print ('\\n Neutral')\n",
    "print(neut_data[0],'\\n',neut_labs[0:10])"
   ]
  },
  {
   "cell_type": "code",
   "execution_count": 7,
   "metadata": {
    "collapsed": false
   },
   "outputs": [
    {
     "name": "stdout",
     "output_type": "stream",
     "text": [
      "(22621,)\n",
      "(22621,)\n"
     ]
    }
   ],
   "source": [
    "# Combining into one dataset\n",
    "data_all = np.concatenate((neut_data, lib_data, con_data), axis=0)\n",
    "labs_all = np.concatenate((neut_labs, lib_labs, con_labs), axis=0)\n",
    "\n",
    "print (data_all.shape)\n",
    "print (labs_all.shape)"
   ]
  },
  {
   "cell_type": "code",
   "execution_count": 8,
   "metadata": {
    "collapsed": false
   },
   "outputs": [],
   "source": [
    "# Randomly mixing data&labels so that they can be split into test and train\n",
    "def shuffle_in_unison(a, b):\n",
    "    assert len(a) == len(b)\n",
    "    shuffled_a = np.empty(a.shape, dtype=a.dtype)\n",
    "    shuffled_b = np.empty(b.shape, dtype=b.dtype)\n",
    "    permutation = np.random.permutation(len(a))\n",
    "    for old_index, new_index in enumerate(permutation):\n",
    "        shuffled_a[new_index] = a[old_index]\n",
    "        shuffled_b[new_index] = b[old_index]\n",
    "    return shuffled_a, shuffled_b\n",
    "\n",
    "data_all, labs_all = shuffle_in_unison(data_all, labs_all)"
   ]
  },
  {
   "cell_type": "markdown",
   "metadata": {},
   "source": [
    "# @Matt\n",
    "# Should we be including a dev set as well, and reserve a test set for the very last iteration of each model?"
   ]
  },
  {
   "cell_type": "code",
   "execution_count": 9,
   "metadata": {
    "collapsed": false,
    "scrolled": true
   },
   "outputs": [
    {
     "name": "stdout",
     "output_type": "stream",
     "text": [
      "(22621,)\n",
      "(4525,)\n",
      "(18096,)\n"
     ]
    }
   ],
   "source": [
    "# Split data into test (20%) and train (80%)\n",
    "slice = int(.8*labs_all.shape[0])\n",
    "data_train = data_all[:slice]\n",
    "labs_train = labs_all[:slice]\n",
    "data_test = data_all[slice:]\n",
    "labs_test = labs_all[slice:]\n",
    "print(labs_all.shape)\n",
    "print(labs_test.shape)\n",
    "print(labs_train.shape)"
   ]
  },
  {
   "cell_type": "code",
   "execution_count": 10,
   "metadata": {
    "collapsed": false
   },
   "outputs": [
    {
     "name": "stdout",
     "output_type": "stream",
     "text": [
      "Total word count: 309906\n",
      "Vocabulary size: 14156\n"
     ]
    }
   ],
   "source": [
    "# Turning dataset into word tokens\n",
    "count_vect = CountVectorizer()\n",
    "data = count_vect.fit_transform(data_train).toarray()\n",
    "vocab = count_vect.get_feature_names()\n",
    "\n",
    "# Counting the number of times each word appears\n",
    "np.clip(data,0,1, out = data) #make sure each word only appears once in the array\n",
    "dist = np.sum(data, axis = 0) #sum the columns\n",
    "counts = list(zip(vocab,dist)) #zip counts and words together\n",
    "\n",
    "# Total vocab size and word count\n",
    "print(\"Total word count:\",np.sum(dist))\n",
    "print(\"Vocabulary size:\",len(vocab))"
   ]
  },
  {
   "cell_type": "code",
   "execution_count": 11,
   "metadata": {
    "collapsed": false
   },
   "outputs": [
    {
     "data": {
      "text/plain": [
       "[('the', 10969),\n",
       " ('and', 7948),\n",
       " ('of', 7873),\n",
       " ('to', 7625),\n",
       " ('that', 4829),\n",
       " ('in', 4532),\n",
       " ('for', 3466),\n",
       " ('by', 2346),\n",
       " ('is', 2217),\n",
       " ('on', 2073),\n",
       " ('as', 1936),\n",
       " ('their', 1916),\n",
       " ('with', 1768),\n",
       " ('are', 1570),\n",
       " ('it', 1519),\n",
       " ('be', 1475),\n",
       " ('or', 1443),\n",
       " ('have', 1371),\n",
       " ('not', 1350),\n",
       " ('more', 1307)]"
      ]
     },
     "execution_count": 11,
     "metadata": {},
     "output_type": "execute_result"
    }
   ],
   "source": [
    "# Printing out the 20 most popular words\n",
    "counts = sorted(counts, key=lambda x: x[1], reverse=True) \n",
    "counts[0:20]"
   ]
  },
  {
   "cell_type": "code",
   "execution_count": 12,
   "metadata": {
    "collapsed": false
   },
   "outputs": [
    {
     "data": {
      "image/png": "[encoded data removed]",
      "text/plain": [
       "<matplotlib.figure.Figure at 0x12244beb8>"
      ]
     },
     "metadata": {},
     "output_type": "display_data"
    }
   ],
   "source": [
    "# Plotting top 50 results\n",
    "ordered = list(zip(*counts))\n",
    "x = ordered[0][:50] #counts\n",
    "y = ordered[1][:50] #words\n",
    "\n",
    "# Plotting figure\n",
    "fig = plt.figure(figsize=(15.0,6.0))\n",
    "indexes = np.arange(50)\n",
    "width = .25\n",
    "plt.bar(indexes, y, width)\n",
    "plt.xticks(indexes + width * 0.5, x,rotation=70)\n",
    "plt.show()"
   ]
  },
  {
   "cell_type": "markdown",
   "metadata": {},
   "source": [
    "### Baseline model: Multinomial Naive Bayes\n"
   ]
  },
  {
   "cell_type": "code",
   "execution_count": 13,
   "metadata": {
    "collapsed": false
   },
   "outputs": [
    {
     "name": "stdout",
     "output_type": "stream",
     "text": [
      "\n",
      "Multinomial Naive Bayes:\n",
      "alpha: 0.0001 F1: 0.721842561344\n",
      "alpha: 0.01 F1: 0.720366920343\n",
      "alpha: 0.05 F1: 0.718862801137\n",
      "alpha: 0.1 F1: 0.715193044252\n",
      "alpha: 0.2 F1: 0.713520126151\n",
      "alpha: 1.0 F1: 0.695924816142\n"
     ]
    }
   ],
   "source": [
    "# This model predicts the political leanings of sentences and sub-sentences\n",
    "\n",
    "# Training the model\n",
    "vect = CountVectorizer()\n",
    "train_vocab = vect.fit_transform(data_train)\n",
    "test_vocab = vect.transform(data_test)\n",
    "\n",
    "# Scoring the model\n",
    "print(\"\")\n",
    "print(\"Multinomial Naive Bayes:\")\n",
    "for a in [0.0001, 0.01, .05, 0.1, 0.2, 1.0]:\n",
    "    mnb = MultinomialNB(alpha=a)\n",
    "    mnb.fit(train_vocab, labs_train)\n",
    "    mnbpreds = mnb.predict(test_vocab)\n",
    "    print(\"alpha:\", a, \"F1:\", metrics.f1_score(labs_test,mnbpreds,average='weighted'))"
   ]
  },
  {
   "cell_type": "code",
   "execution_count": 14,
   "metadata": {
    "collapsed": false
   },
   "outputs": [
    {
     "name": "stdout",
     "output_type": "stream",
     "text": [
      "Sentence: be far better spent on further stimulus\n",
      "Actual Label: Liberal\n",
      "Predicted Label: Liberal\n",
      "Predicted Label Probability: 0.4956904453274209 \n",
      "\n",
      "Sentence: can sell the useless cornucopia of games and gadgets for which there is no discernible `` need market '' other than the one created by capitalism 's frantic imperative to sell\n",
      "Actual Label: Liberal\n",
      "Predicted Label: Liberal\n",
      "Predicted Label Probability: 1.0 \n",
      "\n",
      "Sentence: that of private financial assets\n",
      "Actual Label: Neutral\n",
      "Predicted Label: Neutral\n",
      "Predicted Label Probability: 0.45716127542061447 \n",
      "\n",
      "Sentence: the affluent to win tax breaks\n",
      "Actual Label: Liberal\n",
      "Predicted Label: Liberal\n",
      "Predicted Label Probability: 0.9785184625052931 \n",
      "\n",
      "Sentence: discussed in this book\n",
      "Actual Label: Neutral\n",
      "Predicted Label: Neutral\n",
      "Predicted Label Probability: 0.9483071147483622 \n",
      "\n"
     ]
    }
   ],
   "source": [
    "# Showing examples for alpha = 0.001\n",
    "mnb = MultinomialNB(alpha=0.001)\n",
    "mnb.fit(train_vocab, labs_train)\n",
    "mnbpreds = mnb.predict(test_vocab)\n",
    "mnbpred_prob = mnb.predict_proba(test_vocab)\n",
    "probs = list(zip(data_test.tolist(),mnbpreds.tolist(),mnbpred_prob.tolist()))\n",
    "\n",
    "for i in range(0,5):\n",
    "    print('Sentence:',probs[i][0])\n",
    "    print('Actual Label:',labs_test[i])\n",
    "    print('Predicted Label:',probs[i][1])\n",
    "    print('Predicted Label Probability:', max(probs[i][2]),'\\n')"
   ]
  },
  {
   "cell_type": "code",
   "execution_count": 16,
   "metadata": {
    "collapsed": false
   },
   "outputs": [
    {
     "name": "stdout",
     "output_type": "stream",
     "text": [
      "MNB missclassified 1259 phrases \n",
      "\n",
      "Sentence: significant effects on economic mobility\n",
      "Actual Label: Neutral\n",
      "Predicted Label: Liberal\n",
      "Predicted Label Probability: 0.6691645790771936 \n",
      "\n",
      "Sentence: With society so polarized , the party in power can dismiss any criticism as the selfish whining of the privileged and concentrate on the serious business of diverting state resources to its own followers .\n",
      "Actual Label: Conservative\n",
      "Predicted Label: Liberal\n",
      "Predicted Label Probability: 0.9998025236571708 \n",
      "\n",
      "Sentence: The Earned Income Tax Credit\n",
      "Actual Label: Neutral\n",
      "Predicted Label: Liberal\n",
      "Predicted Label Probability: 0.919463618058638 \n",
      "\n",
      "Sentence: points on their bid\n",
      "Actual Label: Neutral\n",
      "Predicted Label: Liberal\n",
      "Predicted Label Probability: 0.7453509691273046 \n",
      "\n",
      "Sentence: created in Douglas and Thomas a burning anger , insecurity , and sense of class resentment , which they express by railing against institutions that , in their view , failed to recognize their worth\n",
      "Actual Label: Liberal\n",
      "Predicted Label: Conservative\n",
      "Predicted Label Probability: 0.8201133700484969 \n",
      "\n"
     ]
    }
   ],
   "source": [
    "# Finding and printing out mistakes\n",
    "errors = []\n",
    "for i in range(0,len(probs)):\n",
    "    if labs_test[i] == probs[i][1]:\n",
    "        pass\n",
    "    else:\n",
    "        errors.append(i)\n",
    "        \n",
    "print('MNB missclassified',len(errors),'phrases','\\n')\n",
    "\n",
    "for i in errors[0:5]:\n",
    "    print('Sentence:',probs[i][0])\n",
    "    print('Actual Label:',labs_test[i])\n",
    "    print('Predicted Label:',probs[i][1])\n",
    "    print('Predicted Label Probability:', max(probs[i][2]),'\\n')"
   ]
  },
  {
   "cell_type": "markdown",
   "metadata": {
    "collapsed": true
   },
   "source": [
    "### Sentence parser and scoring for overall article label on baseline model"
   ]
  },
  {
   "cell_type": "code",
   "execution_count": 17,
   "metadata": {
    "collapsed": false,
    "scrolled": true
   },
   "outputs": [],
   "source": [
    "article = dict()\n",
    "article.update({'fox_00': 'president trump on tuesday signed an executive order that will make it harder for american tech companies to hire employees from foreign countries willing to work for less money than americans. trump signed the “buy american hire american” order during his visit to the snap on tools headquarters in kenosha wis. the president called the order “bold new steps” toward making good on his campaign promises to generate more jobs for out of work americans. trump called the order “a powerful signal to the world” that “finally puts america first.” “we are finally standing up for our workers and our companies” trump said. the order targets the h{DG} b visa program which allows u.s. companies to employ graduate level workers in specialty occupations like it engineering mathematics and science. among other changes the white house wants to end the h{DG} b lottery system and replace it with a merit based one   though it’s unclear exactly what criteria they would use.   “we’re going to switch away from a random lottery system in which it’s weighted toward the lowest wage workers towards a system that prioritizes higher skilled higher paid workers which would make it much more difficult to use it to replace american workers” a senior administration official said monday.   each year on april {DG} a fresh cap for h{DG} b visa applications is set by u.s. citizenship and immigration services. under the current system applications are then randomly selected in a lottery system. trump’s order also empowers federal agencies to reexamine loopholes in the government’s procurement process. specifically they would look into whether waivers in free trade agreements are leading to unfair trade by companies outside the u.s. and whether it undercuts american companies on a global playing field. on the campaign trail trump repeatedly vilified companies that looked to hire foreign workers. he vowed to end the h{DG} b program which he said allowed big business to fire americans and replace them with foreigners. currently the government’s h {DG}b visa program admits {DG} immigrants in each year to handle high tech jobs. the number of application for h{DG} b visas fell to {DG} this year from {DG} in {DG} and {DG} in {DG} according to u.s. citizenship and immigration services. trump’s order also requires applicants and their employers to demonstrate that the hb {DG} visas awards will only go to the most highly skilled workers in their fields. trump has come under fire for not practicing what he preaches. while he has pledged to support american goods and workers some of his trump branded products are made overseas or made by foreign workers. the president  also has been accused of looking the other way when his son eric trump asked to bring in {DG} workers to work at trump vineyard estates through the federal h {DG}a visa program. that program enables agricultural employers to bring in seasonal foreign workers. according to filings job orders for trump vineyard estates say the primary tasks include planting and cultivating vines adding grow tubes and pruning grape vines. during his wide ranging speech trump also promised to fix the nation’s crumbling infrastructure beef up trade deals tweak the tax code and pass a new health care bill that will replace and repeal obamacare. he also said he wanted to work with lawmakers on getting wisconsin dairy workers to get into the canadian market.'})"
   ]
  },
  {
   "cell_type": "code",
   "execution_count": 18,
   "metadata": {
    "collapsed": false
   },
   "outputs": [
    {
     "data": {
      "text/plain": [
       "'president trump on tuesday signed an executive order that will make it harder for american tech companies to hire employees from foreign countries willing to work for less money than americans. trump signed the “buy american hire american” order during his visit to the snap on tools headquarters in kenosha wis. the president called the order “bold new steps” toward making good on his campaign promises to generate more jobs for out of work americans. trump called the order “a powerful signal to the world” that “finally puts america first.” “we are finally standing up for our workers and our companies” trump said. the order targets the h{DG} b visa program which allows u.s. companies to employ graduate level workers in specialty occupations like it engineering mathematics and science. among other changes the white house wants to end the h{DG} b lottery system and replace it with a merit based one   though it’s unclear exactly what criteria they would use.   “we’re going to switch away from a random lottery system in which it’s weighted toward the lowest wage workers towards a system that prioritizes higher skilled higher paid workers which would make it much more difficult to use it to replace american workers” a senior administration official said monday.   each year on april {DG} a fresh cap for h{DG} b visa applications is set by u.s. citizenship and immigration services. under the current system applications are then randomly selected in a lottery system. trump’s order also empowers federal agencies to reexamine loopholes in the government’s procurement process. specifically they would look into whether waivers in free trade agreements are leading to unfair trade by companies outside the u.s. and whether it undercuts american companies on a global playing field. on the campaign trail trump repeatedly vilified companies that looked to hire foreign workers. he vowed to end the h{DG} b program which he said allowed big business to fire americans and replace them with foreigners. currently the government’s h {DG}b visa program admits {DG} immigrants in each year to handle high tech jobs. the number of application for h{DG} b visas fell to {DG} this year from {DG} in {DG} and {DG} in {DG} according to u.s. citizenship and immigration services. trump’s order also requires applicants and their employers to demonstrate that the hb {DG} visas awards will only go to the most highly skilled workers in their fields. trump has come under fire for not practicing what he preaches. while he has pledged to support american goods and workers some of his trump branded products are made overseas or made by foreign workers. the president  also has been accused of looking the other way when his son eric trump asked to bring in {DG} workers to work at trump vineyard estates through the federal h {DG}a visa program. that program enables agricultural employers to bring in seasonal foreign workers. according to filings job orders for trump vineyard estates say the primary tasks include planting and cultivating vines adding grow tubes and pruning grape vines. during his wide ranging speech trump also promised to fix the nation’s crumbling infrastructure beef up trade deals tweak the tax code and pass a new health care bill that will replace and repeal obamacare. he also said he wanted to work with lawmakers on getting wisconsin dairy workers to get into the canadian market.'"
      ]
     },
     "execution_count": 18,
     "metadata": {},
     "output_type": "execute_result"
    }
   ],
   "source": [
    "article['fox_00']"
   ]
  },
  {
   "cell_type": "code",
   "execution_count": 22,
   "metadata": {
    "collapsed": true
   },
   "outputs": [],
   "source": [
    "import re\n",
    "caps = \"([A-Z])\"\n",
    "prefixes = \"(Mr|St|Mrs|Ms|Dr)[.]\"\n",
    "suffixes = \"(Inc|Ltd|Jr|Sr|Co)\"\n",
    "starters = \"(Mr|Mrs|Ms|Dr|He\\s|She\\s|It\\s|They\\s|Their\\s|Our\\s|We\\s|But\\s|However\\s|That\\s|This\\s|Wherever)\"\n",
    "acronyms = \"([A-Z][.][A-Z][.](?:[A-Z][.])?)\"\n",
    "websites = \"[.](com|net|org|io|gov)\"\n",
    "\n",
    "def split_into_sentences(text):\n",
    "    text = \" \" + text + \"  \"\n",
    "    text = text.replace(\"\\n\",\" \")\n",
    "    text = re.sub(prefixes,\"\\\\1<prd>\",text)\n",
    "    text = re.sub(websites,\"<prd>\\\\1\",text)\n",
    "    if \"Ph.D\" in text: text = text.replace(\"Ph.D.\",\"Ph<prd>D<prd>\")\n",
    "    if \"u.s.\" in text: text = text.replace(\"u.s.\",\"u<prd>s<prd>\")\n",
    "    text = re.sub(\"\\s\" + caps + \"[.] \",\" \\\\1<prd> \",text)\n",
    "    text = re.sub(acronyms+\" \"+starters,\"\\\\1<stop> \\\\2\",text)\n",
    "    text = re.sub(caps + \"[.]\" + caps + \"[.]\" + caps + \"[.]\",\"\\\\1<prd>\\\\2<prd>\\\\3<prd>\",text)\n",
    "    text = re.sub(caps + \"[.]\" + caps + \"[.]\",\"\\\\1<prd>\\\\2<prd>\",text)\n",
    "    text = re.sub(\" \"+suffixes+\"[.] \"+starters,\" \\\\1<stop> \\\\2\",text)\n",
    "    text = re.sub(\" \"+suffixes+\"[.]\",\" \\\\1<prd>\",text)\n",
    "    text = re.sub(\" \" + caps + \"[.]\",\" \\\\1<prd>\",text)\n",
    "    if \"”\" in text: text = text.replace(\".”\",\"”.\")\n",
    "    if \"\\\"\" in text: text = text.replace(\".\\\"\",\"\\\".\")\n",
    "    if \"!\" in text: text = text.replace(\"!\\\"\",\"\\\"!\")\n",
    "    if \"?\" in text: text = text.replace(\"?\\\"\",\"\\\"?\")\n",
    "    text = text.replace(\".\",\".<stop>\")\n",
    "    text = text.replace(\"?\",\"?<stop>\")\n",
    "    text = text.replace(\"!\",\"!<stop>\")\n",
    "    text = text.replace(\"<prd>\",\".\")\n",
    "    sentences = text.split(\"<stop>\")\n",
    "    sentences = sentences[:-1]\n",
    "    sentences = [s.strip() for s in sentences]\n",
    "    return sentences"
   ]
  },
  {
   "cell_type": "code",
   "execution_count": 23,
   "metadata": {
    "collapsed": true
   },
   "outputs": [],
   "source": [
    "sentences = split_into_sentences(article['fox_00'])"
   ]
  },
  {
   "cell_type": "code",
   "execution_count": 28,
   "metadata": {
    "collapsed": false
   },
   "outputs": [
    {
     "name": "stdout",
     "output_type": "stream",
     "text": [
      "Number of sentences in article: 24\n",
      "\n",
      "Liberal sentences: 12\n",
      "Conservative sentences: 11\n",
      "Neutral sentences: 1\n",
      "\n",
      "P-value of chi square: 0.00980365503582\n",
      "\n",
      "Article has strong liberal lean\n"
     ]
    }
   ],
   "source": [
    "x = len(sentences)\n",
    "sen = np.asarray(sentences)\n",
    "    \n",
    "print (\"Number of sentences in article:\", x)\n",
    "print (\"\")\n",
    "\n",
    "vect = CountVectorizer()\n",
    "train_vocab = vect.fit_transform(data_train)\n",
    "test_vocab = vect.transform(sen)\n",
    "\n",
    "# Predictions based on MNB baseline model\n",
    "for a in [0.0001]:\n",
    "    mnb = MultinomialNB(alpha=a)\n",
    "    mnb.fit(train_vocab, labs_train)\n",
    "    mnbpreds = mnb.predict(test_vocab)\n",
    "\n",
    "#tallying the labels\n",
    "lib = 0\n",
    "con = 0\n",
    "neut = 0\n",
    "for i in range(mnbpreds.shape[0]):\n",
    "    if mnbpreds[i] == 'Liberal':\n",
    "        lib += 1\n",
    "    elif mnbpreds[i] == 'Conservative':\n",
    "        con += 1\n",
    "    else:\n",
    "        neut += 1\n",
    "\n",
    "print ('Liberal sentences:', lib)\n",
    "print ('Conservative sentences:', con)\n",
    "print ('Neutral sentences:', neut)\n",
    "\n",
    "def maxlab(liberal, conservative, neutral):\n",
    "    if max(liberal, conservative, neutral) == liberal:\n",
    "        return 'liberal'\n",
    "    elif max(liberal, conservative, neutral) == conservative:\n",
    "        return 'conservative'\n",
    "    else:\n",
    "        return 'neutral'\n",
    "\n",
    "#assess lean/bias\n",
    "import scipy as sp\n",
    "\n",
    "def myround(x, base=3):\n",
    "    return int(base * round(float(x)/base))\n",
    "\n",
    "z = myround(x)\n",
    "distlabs = [lib,con,neut]\n",
    "testerlabs = [3,20,10]\n",
    "normlabs = [z/3,z/3,z/3]\n",
    "\n",
    "#chisquare to assess normality of label ditribution\n",
    "pval = sp.stats.chisquare(distlabs,normlabs)[1]\n",
    "print (\"\")\n",
    "print (\"P-value of chi square:\", pval)\n",
    "print (\"\")\n",
    "if pval < .05:\n",
    "    print (\"Article has strong %s lean\" % (maxlab(lib,con,neut)))\n",
    "else:\n",
    "    print (\"Article has moderate %s lean\" % (maxlab(lib,con,neut)))\n"
   ]
  },
  {
   "cell_type": "markdown",
   "metadata": {},
   "source": [
    "# Megan: I'm thinking we use this basic setup, looping through a dictionary of extracted articles. The only thing that would need to change is how the predicted labels are generated (LSTM for you, CLIP for me). At the end we'll have an aggregate view of each source (# articles that are strongly conservative/moderate conservative/neutral/mod lib/strong lib) that should be interesting (either it will confirm preconceived notions or go against them)\n"
   ]
  },
  {
   "cell_type": "code",
   "execution_count": null,
   "metadata": {
    "collapsed": true
   },
   "outputs": [],
   "source": []
  }
 ],
 "metadata": {
  "kernelspec": {
   "display_name": "Python 3",
   "language": "python",
   "name": "python3"
  },
  "language_info": {
   "codemirror_mode": {
    "name": "ipython",
    "version": 3
   },
   "file_extension": ".py",
   "mimetype": "text/x-python",
   "name": "python",
   "nbconvert_exporter": "python",
   "pygments_lexer": "ipython3",
   "version": "3.4.5"
  }
 },
 "nbformat": 4,
 "nbformat_minor": 0
}
