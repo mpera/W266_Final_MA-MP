{
 "cells": [
  {
   "cell_type": "markdown",
   "metadata": {},
   "source": [
    "## W266 Final Project\n",
    "\n",
    "### Classifying the Political Ideology of News Articles\n",
    "\n",
    "#### Matt Acconciamessa and Megan Pera\n",
    "\n"
   ]
  },
  {
   "cell_type": "code",
   "execution_count": 1,
   "metadata": {
    "collapsed": false
   },
   "outputs": [],
   "source": [
    "# Import necessary libraries\n",
    "import pickle"
   ]
  },
  {
   "cell_type": "code",
   "execution_count": 2,
   "metadata": {
    "collapsed": false
   },
   "outputs": [
    {
     "ename": "FileNotFoundError",
     "evalue": "[Errno 2] No such file or directory: 'ibcData.pkl'",
     "output_type": "error",
     "traceback": [
      "\u001b[0;31m---------------------------------------------------------------------------\u001b[0m",
      "\u001b[0;31mFileNotFoundError\u001b[0m                         Traceback (most recent call last)",
      "\u001b[0;32m<ipython-input-2-beab9c49dcdc>\u001b[0m in \u001b[0;36m<module>\u001b[0;34m()\u001b[0m\n\u001b[1;32m      1\u001b[0m \u001b[0;31m# Load and save data into liberal, conservative and neutral objects\u001b[0m\u001b[0;34m\u001b[0m\u001b[0;34m\u001b[0m\u001b[0m\n\u001b[0;32m----> 2\u001b[0;31m \u001b[0;34m[\u001b[0m\u001b[0mlib\u001b[0m\u001b[0;34m,\u001b[0m \u001b[0mcon\u001b[0m\u001b[0;34m,\u001b[0m \u001b[0mneutral\u001b[0m\u001b[0;34m]\u001b[0m \u001b[0;34m=\u001b[0m \u001b[0mpickle\u001b[0m\u001b[0;34m.\u001b[0m\u001b[0mload\u001b[0m\u001b[0;34m(\u001b[0m\u001b[0mopen\u001b[0m\u001b[0;34m(\u001b[0m\u001b[0;34m'ibcData.pkl'\u001b[0m\u001b[0;34m,\u001b[0m \u001b[0;34m'rb'\u001b[0m\u001b[0;34m)\u001b[0m\u001b[0;34m)\u001b[0m\u001b[0;34m\u001b[0m\u001b[0m\n\u001b[0m",
      "\u001b[0;31mFileNotFoundError\u001b[0m: [Errno 2] No such file or directory: 'ibcData.pkl'"
     ]
    }
   ],
   "source": [
    "# Load and save data into liberal, conservative and neutral objects\n",
    "[lib, con, neutral] = pickle.load(open('ibcData.pkl', 'rb'))"
   ]
  },
  {
   "cell_type": "code",
   "execution_count": 19,
   "metadata": {
    "collapsed": false
   },
   "outputs": [
    {
     "name": "stdout",
     "output_type": "stream",
     "text": [
      "Liberal examples (out of  2025  sentences): \n",
      "Forcing middle-class workers to bear a greater share of the cost of government weakens their support for needed investments and stirs resentment toward those who depend on public services the most .\n",
      "Because it would not be worthwhile to bring a case for $ 30.22 , the arbitration clause would , as a practical matter , deny the Concepcions any relief and , more important , eliminate a class action that might punish AT&T for its pattern of fraudulent behavior .\n",
      "Indeed , Lind argues that high profits and high wages reinforce each other because workers then have the wherewithal to buy the products they are making .\n",
      "In fairness , it should be noted that he devotes an entire chapter to New York Times political columnist Maureen Dowd , a liberal who makes much of the outsized rivalries , jealousies , and personalities that dominate American politics .\n",
      "Psychological tactics are social control techniques that operate at the level of the mind , with the goal of creating fear and making it difficult for protesters to successfully mobilize .\n"
     ]
    }
   ],
   "source": [
    "# **Code from Iyyer**\n",
    "\n",
    "# how to access sentence text\n",
    "print ('Liberal examples (out of ', len(lib), ' sentences): ')\n",
    "for tree in lib[0:5]:\n",
    "    print(tree.get_words())"
   ]
  },
  {
   "cell_type": "code",
   "execution_count": 28,
   "metadata": {
    "collapsed": false
   },
   "outputs": [
    {
     "name": "stdout",
     "output_type": "stream",
     "text": [
      "\n",
      "Conservative examples (out of  1701  sentences): \n",
      "Gore is getting rich from environmentalism , not just by being paid a whopping $ 175,000 per speech but by using political pressure to force government policy in a direction that benefits his business interests .\n",
      "The Federal Housing Finance Regulatory Reform Act of 2008 should have been an easy sell , since it purportedly aimed to assist homeowners , a more popular ( or at least more sentimentalized ) subset of Americans than greedy Wall Street tycoons .\n",
      "Yet for all its submerged class snobbery and anti-intellectualism disguised as cool detachment , the ultimate failure of the Washington media lies less with the personal failings of its elite members than its structural inadequacy .\n",
      "Rumsfeld then went on to discuss how China 's lack of transparency with respect to its defense expenditures and activities raises doubts in the region about China 's intentions .\n",
      "You never hear from the co-conspirators of the left-wing media how many innocent victims are dead , raped , and mutilated as a direct result of these left-wing policies and insane anti-gun laws .\n"
     ]
    }
   ],
   "source": [
    "print ('\\nConservative examples (out of ', len(con), ' sentences): ')\n",
    "for tree in con[0:5]:\n",
    "    print (tree.get_words())"
   ]
  },
  {
   "cell_type": "code",
   "execution_count": 29,
   "metadata": {
    "collapsed": false
   },
   "outputs": [
    {
     "name": "stdout",
     "output_type": "stream",
     "text": [
      "\n",
      "Neutral examples (out of  600  sentences): \n",
      "In this country , the beneficiaries of Apple 's success are , first , the designers , who have done wonders working with Steve Jobs to produce products that are beautiful and effective .\n",
      "The problem with this argument is that China reports about 68 percent of the world 's aquaculture production , and the FAO , which has been burned by inflated Chinese statistics before , expresses doubt about its stated production and growth rates . ''\n",
      "The soil exhaustion caused by the plantation system , as well as the relatively low productivity of forced labor , compelled planters to seek new lands to exploit .\n",
      "The same complexity that leads to such malfunctions also creates vulnerabilities that human agents can use to make computer systems operate in unintended ways .\n",
      "Threads of new awkwardness stretch out between them , and nature itself winks behind their backs and plays nasty tricks on them , scattering yellow clods of asters and groundsel , blanketing purple clover and pink flax , erecting stalks of huge -- but smelly -- purple arum flowers , sprinkling red buttercups , and hanging baby oranges and lemons on the trees around them .\n"
     ]
    }
   ],
   "source": [
    "print ('\\nNeutral examples (out of ', len(neutral), ' sentences): ')\n",
    "for tree in neutral[0:5]:\n",
    "    print (tree.get_words())"
   ]
  },
  {
   "cell_type": "code",
   "execution_count": 32,
   "metadata": {
    "collapsed": false
   },
   "outputs": [
    {
     "name": "stdout",
     "output_type": "stream",
     "text": [
      "\n",
      "Phrase labels for one tree: \n",
      "Liberal :  Forcing middle-class workers to bear a greater share of the cost of government weakens their support for needed investments and stirs resentment toward those who depend on public services the most .\n",
      "Liberal :  weakens their support for needed investments and stirs resentment toward those who depend on public services the most\n",
      "Liberal :  stirs resentment toward those who depend on public services the most\n"
     ]
    }
   ],
   "source": [
    "# how to access phrase labels for a particular tree\n",
    "ex_tree = lib[0]\n",
    "\n",
    "print ('\\nPhrase labels for one tree: ')\n",
    "\n",
    "# see treeUtil.py for the tree class definition\n",
    "for node in ex_tree:\n",
    "\n",
    "    # remember, only certain nodes have labels (see paper for details)\n",
    "    if hasattr(node, 'label'):\n",
    "        print (node.label, ': ', node.get_words())"
   ]
  },
  {
   "cell_type": "code",
   "execution_count": 40,
   "metadata": {
    "collapsed": false
   },
   "outputs": [
    {
     "name": "stdout",
     "output_type": "stream",
     "text": [
      "\n",
      "Phrase labels for one tree: \n",
      "Liberal :  Forcing middle-class workers to bear a greater share of the cost of government weakens their support for needed investments and stirs resentment toward those who depend on public services the most .\n",
      "Liberal :  weakens their support for needed investments and stirs resentment toward those who depend on public services the most\n",
      "Liberal :  stirs resentment toward those who depend on public services the most\n"
     ]
    }
   ],
   "source": [
    "# how to access phrase labels for a particular tree\n",
    "ex_tree = lib[0]\n",
    "\n",
    "print ('\\nPhrase labels for one tree: ')\n",
    "\n",
    "# see treeUtil.py for the tree class definition\n",
    "for node in ex_tree:\n",
    "\n",
    "    # remember, only certain nodes have labels (see paper for details)\n",
    "    if hasattr(node, 'label'):\n",
    "        print (node.label, ': ', node.get_words())"
   ]
  },
  {
   "cell_type": "code",
   "execution_count": null,
   "metadata": {
    "collapsed": true
   },
   "outputs": [],
   "source": []
  }
 ],
 "metadata": {
  "kernelspec": {
   "display_name": "Python 3",
   "language": "python",
   "name": "python3"
  },
  "language_info": {
   "codemirror_mode": {
    "name": "ipython",
    "version": 3
   },
   "file_extension": ".py",
   "mimetype": "text/x-python",
   "name": "python",
   "nbconvert_exporter": "python",
   "pygments_lexer": "ipython3",
   "version": "3.4.5"
  }
 },
 "nbformat": 4,
 "nbformat_minor": 0
}
