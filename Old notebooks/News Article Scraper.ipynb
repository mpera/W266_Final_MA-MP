{
 "cells": [
  {
   "cell_type": "markdown",
   "metadata": {},
   "source": [
    "## News Article Scraper\n",
    "\n",
    "This code scrapes news articles from prominent news sources and saves them in a dictionary called \"articles\" for scoring later."
   ]
  },
  {
   "cell_type": "code",
   "execution_count": 1,
   "metadata": {
    "collapsed": false
   },
   "outputs": [],
   "source": [
    "import string\n",
    "import urllib.request\n",
    "import httplib2\n",
    "import requests\n",
    "from requests.exceptions import ConnectionError, RequestException\n",
    "from bs4 import BeautifulSoup, SoupStrainer\n",
    "import csv\n",
    "import time\n",
    "import re  #https://regex101.com/\n"
   ]
  },
  {
   "cell_type": "code",
   "execution_count": 2,
   "metadata": {
    "collapsed": true
   },
   "outputs": [],
   "source": [
    "articles = dict()"
   ]
  },
  {
   "cell_type": "code",
   "execution_count": 3,
   "metadata": {
    "collapsed": true
   },
   "outputs": [],
   "source": [
    "# Define text-cleaning functions\n",
    "\n",
    "def replace_punct(input):\n",
    "    input = input.replace(',', '')\n",
    "    input = input.replace('\\'', '')\n",
    "    input = input.replace(':', '')\n",
    "    input = input.replace('[', '')\n",
    "    input = input.replace(']', '')\n",
    "    input = input.replace('(', '')\n",
    "    input = input.replace(')', '')\n",
    "    input = input.replace('_', '')\n",
    "    input = input.replace('\"', '')\n",
    "\n",
    "    input = input.replace('-', ' ')\n",
    "    input = input.replace('+', ' ')\n",
    "\n",
    "    return input\n",
    "\n",
    "def clean_article(text):\n",
    "\n",
    "    # replace certain strings\n",
    "    text = text.replace('expand / contract','')  \n",
    "\n",
    "    text = text.replace('\\n',' ')\n",
    "    text = text.lower()\n",
    "    text = re.sub(r'\\\\u[0-9]+[abcde]*', '',text) \n",
    "\n",
    "    text = replace_punct(text)\n",
    "    text = re.sub(r'\\d+', '{DG}', text) \n",
    "\n",
    "    return text"
   ]
  },
  {
   "cell_type": "code",
   "execution_count": 26,
   "metadata": {
    "collapsed": false
   },
   "outputs": [],
   "source": [
    "# For Fox News - this works!\n",
    "\n",
    "def fox_scraper(url):\n",
    "    r = urllib.request.urlopen(url)\n",
    "    soup = BeautifulSoup(r, 'html.parser')\n",
    "    tags = soup.find_all(\"div\", class_=\"article-text\")\n",
    "    \n",
    "    # Clean text\n",
    "    article_text = re.sub(\"<[^>]*>\", \"\", str(tags), flags=re.MULTILINE)\n",
    "    article_text = article_text.replace('\\xa0',' ')\n",
    "    article_text = clean_article(article_text)\n",
    "    \n",
    "    return article_text\n",
    "\n",
    "urls = [\n",
    "    'http://www.foxnews.com/politics/2017/04/18/trump-signs-order-to-clamp-down-on-visa-program-enforce-buy-american-policy.html',\n",
    "    'http://www.foxnews.com/us/2017/04/18/facebook-killer-steve-stephens-dead-police-say.html',\n",
    "    'http://www.foxnews.com/opinion/2017/04/17/care-ceo-famine-is-stalking-globe-and-america-urgently-needs-to-lead.html',\n",
    "    'http://www.foxnews.com/politics/2017/04/18/georgia-race-gop-hits-ossoff-for-living-outside-district-in-final-stretch.html',\n",
    "    'http://www.foxnews.com/politics/2017/04/18/trump-illegal-immigrant-criminals-are-getting-hell-out.html',\n",
    "    'http://www.foxnews.com/politics/2017/04/19/uss-carl-vinson-carrier-was-not-on-way-to-north-korea-reports-say.html',\n",
    "    'http://www.foxnews.com/politics/2017/04/19/iran-nuclear-deal-trump-administration-says-tehran-complying-with-agreement.html',\n",
    "    'http://www.foxnews.com/us/2017/04/19/death-ny-state-judge-found-in-hudson-river-reportedly-suspicious.html',\n",
    "    'http://www.foxnews.com/us/2017/04/19/inspector-who-tried-to-rein-in-illegal-logging-was-fired.html',\n",
    "    'http://www.foxbusiness.com/politics/2017/04/18/with-democratic-invasion-white-house-cuban-starting-to-warm-up-to-trump-presidency.html'\n",
    "]\n",
    "\n",
    "n = 0\n",
    "for url in urls:\n",
    "    articles['fox_%02d' % n] = fox_scraper(url)\n",
    "    n += 1 \n",
    "    \n"
   ]
  },
  {
   "cell_type": "code",
   "execution_count": 27,
   "metadata": {
    "collapsed": false
   },
   "outputs": [],
   "source": [
    "# For NYT - this works!\n",
    "\n",
    "def nyt_scraper(url):\n",
    "    response = requests.get(url, timeout=1.000)\n",
    "    soup = BeautifulSoup(response.text, 'html.parser')   \n",
    "\n",
    "    tag = soup.find_all('p', class_=\"story-body-text story-content\", text=True)\n",
    "    article_text = ''\n",
    "    for t in tag:\n",
    "        article_text += str(t)     \n",
    "    \n",
    "    # Cleaning text\n",
    "    article_text = re.sub(\"<[^>]*>\", \"\", str(article_text), flags=re.MULTILINE)\n",
    "    article_text = clean_article(article_text)\n",
    "    \n",
    "    return article_text\n",
    "\n",
    "urls = [\n",
    "    'https://www.nytimes.com/2017/04/18/world/asia/aircraft-carrier-north-korea-carl-vinson.html?ref=todayspaper&_r=0',\n",
    "    'https://www.nytimes.com/2017/04/18/world/europe/uk-theresa-may-general-election.html?ribbon-ad-idx=3&rref=todayspaper&module=Ribbon&version=origin&region=Header&action=click&contentCollection=Today%E2%80%99s%20Paper&pgtype=article',\n",
    "    'https://www.nytimes.com/2017/04/18/world/europe/hungary-orban-populism-migrants-border-european-union.html?ribbon-ad-idx=3&rref=todayspaper&module=Ribbon&version=origin&region=Header&action=click&contentCollection=Today%E2%80%99s%20Paper&pgtype=article',\n",
    "    'https://www.nytimes.com/2017/04/18/opinion/mr-trump-plays-by-his-own-rules-or-no-rules.html?action=click&pgtype=Homepage&clickSource=story-heading&module=opinion-c-col-left-region&region=opinion-c-col-left-region&WT.nav=opinion-c-col-left-region',\n",
    "    'https://www.nytimes.com/2017/04/18/opinion/defending-governor-cuomos-free-tuition-plan.html?ribbon-ad-idx=16&rref=opinion&module=Ribbon&version=context&region=Header&action=click&contentCollection=Opinion&pgtype=article',\n",
    "    'https://www.nytimes.com/2017/04/18/opinion/my-daughter-is-not-transgender-shes-a-tomboy.html?action=click&pgtype=Homepage&clickSource=story-heading&module=opinion-c-col-right-region&region=opinion-c-col-right-region&WT.nav=opinion-c-col-right-region',\n",
    "    'https://www.nytimes.com/2017/04/19/us/politics/georgia-special-election.html?hp&action=click&pgtype=Homepage&clickSource=story-heading&module=first-column-region&region=top-news&WT.nav=top-news',\n",
    "    'https://www.nytimes.com/2017/04/18/us/politics/georgia-special-election-jon-ossoff.html?ribbon-ad-idx=6&rref=homepage&module=Ribbon&version=origin&region=Header&action=click&contentCollection=Home%20Page&pgtype=article',\n",
    "    'https://www.nytimes.com/2017/04/18/business/media/fox-bill-oreilly.html?ribbon-ad-idx=6&rref=homepage&module=Ribbon&version=origin&region=Header&action=click&contentCollection=Home%20Page&pgtype=article',\n",
    "    'https://www.nytimes.com/2017/04/18/us/politics/executive-order-hire-buy-american-h1b-visa-trump.html?ribbon-ad-idx=6&rref=homepage&module=Ribbon&version=origin&region=Header&action=click&contentCollection=Home%20Page&pgtype=article',\n",
    "    'https://www.nytimes.com/2017/04/18/us/politics/trump-inauguration-fundraising.html?ribbon-ad-idx=6&rref=homepage&module=Ribbon&version=origin&region=Header&action=click&contentCollection=Home%20Page&pgtype=article&mtrref=www.nytimes.com&gwh=65A993E2EE2CFFC71965945E1349AC8C&gwt=pay'\n",
    "]\n",
    "\n",
    "\n",
    "n = 0\n",
    "for url in urls:\n",
    "    articles['nyt_%02d' % n] = nyt_scraper(url)\n",
    "    n += 1 "
   ]
  },
  {
   "cell_type": "code",
   "execution_count": 28,
   "metadata": {
    "collapsed": false
   },
   "outputs": [],
   "source": [
    "# Washington Post - this works!\n",
    "\n",
    "def post_scraper(url):\n",
    "    r = urllib.request.urlopen(url)\n",
    "    soup = BeautifulSoup(r, 'html.parser')\n",
    "\n",
    "    article_text = \"\"                    \n",
    "    tag = soup.find_all('div', class_=\"article-body\")\n",
    "\n",
    "    for t in tag:\n",
    "        mytext = str(t)                      \n",
    "        soup2 = BeautifulSoup(mytext, 'html.parser')  \n",
    "        tag2 = soup2.find_all('p')\n",
    "\n",
    "        for t2 in tag2:\n",
    "            article_text += str(t2) \n",
    "\n",
    "    # Cleaning text\n",
    "    article_text = re.sub(\"<[^>]*>\", \"\", str(tag2), flags=re.MULTILINE)\n",
    "    article_text = clean_article(article_text)\n",
    "    article_text = article_text.replace('\\xa0',' ')\n",
    "\n",
    "    return article_text\n",
    "\n",
    "urls = [\n",
    "    'https://www.washingtonpost.com/world/national-security/on-russia-trump-and-his-top-national-security-aides-seem-to-be-at-odds/2017/04/18/13fdc832-23bf-11e7-bb9d-8cd6118e1409_story.html?hpid=hp_hp-top-table-main_trumprussia-740pm%3Ahomepage%2Fstory&utm_term=.57d1a4076ea0',\n",
    "    'https://www.washingtonpost.com/world/national-security/on-north-korea-trump-administration-talks-tough-but-hopes-to-avoid-war/2017/04/18/96d15536-244a-11e7-bb9d-8cd6118e1409_story.html?hpid=hp_hp-top-table-main_usnorthkorea-920pm%3Ahomepage%2Fstory&utm_term=.5647e44a59dd',\n",
    "    'https://www.washingtonpost.com/powerpost/georgia-house-race-stokes-gop-identity-crisis--and-opportunity-for-democrats/2017/04/18/a2231a48-242f-11e7-b503-9d616bd5a305_story.html?hpid=hp_hp-top-table-main_georgia-9am%3Ahomepage%2Fstory&utm_term=.fe02318f77b6'\n",
    "    ]\n",
    "\n",
    "n = 0\n",
    "for url in urls:\n",
    "    articles['twp_%02d' % n] = post_scraper(url)\n",
    "    n += 1 "
   ]
  },
  {
   "cell_type": "code",
   "execution_count": 23,
   "metadata": {
    "collapsed": true
   },
   "outputs": [],
   "source": [
    "# For Associated Press - this works!\n",
    "\n",
    "def apr_scraper(url):\n",
    "    r = urllib.request.urlopen(url)\n",
    "    soup = BeautifulSoup(r, 'html.parser')\n",
    "    tags = soup.find_all(\"p\", class_=\"ap-story-p\")\n",
    "\n",
    "    # Cleaning text\n",
    "    article_text = re.sub(\"<[^>]*>\", \"\", str(tags), flags=re.MULTILINE)\n",
    "    article_text = article_text.replace('&amp;apos;s', '')\n",
    "    article_text = clean_article(article_text)\n",
    "    \n",
    "    return article_text\n",
    "\n",
    "urls = [\n",
    "    'http://hosted.ap.org/dynamic/stories/E/EU_FRANCE_ELECTION?SITE=AP&SECTION=HOME&TEMPLATE=DEFAULT&CTIME=2017-04-23-16-18-26',\n",
    "    'http://hosted.ap.org/dynamic/stories/U/US_TRUMP_100_THE_PRESIDENCY?SITE=AP&SECTION=HOME&TEMPLATE=DEFAULT&CTIME=2017-04-23-12-04-39',\n",
    "    'http://hosted.ap.org/dynamic/stories/U/US_TRUMP_CONGRESS?SITE=AP&SECTION=HOME&TEMPLATE=DEFAULT&CTIME=2017-04-23-12-46-14',\n",
    "    'http://hosted.ap.org/dynamic/stories/A/AS_NKOREA_DETAINED_AMERICAN?SITE=AP&SECTION=HOME&TEMPLATE=DEFAULT&CTIME=2017-04-23-10-22-53',\n",
    "    'http://hosted.ap.org/dynamic/stories/M/ML_ISRAEL_50_YEARS_LATER_PALESTINIAN_REFUGEES?SITE=AP&SECTION=HOME&TEMPLATE=DEFAULT&CTIME=2017-04-23-02-33-58',\n",
    "    'http://hosted.ap.org/dynamic/stories/U/US_OBIT_ERIN_MORAN_INOL-?SITE=AP&SECTION=HOME&TEMPLATE=DEFAULT&CTIME=2017-04-23-08-09-59',\n",
    "    'http://hosted.ap.org/dynamic/stories/S/STRUGGLING_VENEZUELANS?SITE=AP&SECTION=HOME&TEMPLATE=DEFAULT&CTIME=2017-04-23-12-16-21',\n",
    "    'http://hosted.ap.org/dynamic/stories/A/AF_KENYA_NOVELIST_SHOT?SITE=AP&SECTION=HOME&TEMPLATE=DEFAULT&CTIME=2017-04-23-13-45-09',\n",
    "    'http://hosted.ap.org/dynamic/stories/U/US_FEMALE_GENITAL_MUTILATION_MIOL-?SITE=AP&SECTION=HOME&TEMPLATE=DEFAULT&CTIME=2017-04-23-10-54-21',\n",
    "    'http://hosted.ap.org/dynamic/stories/E/EU_FRANCE_ELECTION_WHY_IT_MATTERS?SITE=AP&SECTION=HOME&TEMPLATE=DEFAULT&CTIME=2017-04-23-12-45-03'\n",
    "]\n",
    "\n",
    "\n",
    "n = 0\n",
    "for url in urls:\n",
    "    articles['apr_%02d' % n] = apr_scraper(url)\n",
    "    n += 1 "
   ]
  },
  {
   "cell_type": "code",
   "execution_count": 47,
   "metadata": {
    "collapsed": true
   },
   "outputs": [],
   "source": [
    "# Daily kos - this works!\n",
    "\n",
    "def kos_scraper(url):\n",
    "    r = urllib.request.urlopen(url)\n",
    "    soup = BeautifulSoup(r, 'html.parser')\n",
    "    tags = soup.find_all('p')\n",
    "\n",
    "    # Cleaning text\n",
    "    article_text = re.sub(\"<[^>]*>\", \"\", str(tags), flags=re.MULTILINE)\n",
    "    article_text = re.sub('\\r\\n*', '', article_text, flags=re.MULTILINE)\n",
    "    article_text = article_text.replace('\\xa0',' ')\n",
    "    article_text = clean_article(article_text)\n",
    "    \n",
    "    return article_text\n",
    "\n",
    "urls = [\n",
    "    'http://www.dailykos.com/stories/2017/4/20/1654826/-Victory-Court-strikes-down-Texas-GOP-drawn-state-House-gerrymander-over-racial-discrimination',\n",
    "    'http://www.dailykos.com/story/2017/04/23/1655584/-Macron-Le-Pen-Projected-Winners-of-Round-One-in-French-Election-Live-Stream-Coverage-in-English',\n",
    "    'http://www.dailykos.com/story/2017/04/23/1655600/-How-our-Piratical-President-will-likely-mark-his-100th-day-in-office',\n",
    "    'http://www.dailykos.com/story/2017/04/23/1655604/-US-Military-Keeps-Civilian-Casualties-Down-By-Calling-Every-Adult-Male-A-Combatant',\n",
    "    'http://www.dailykos.com/story/2017/04/23/1655601/-What-Makes-White-Men-So-Powerful',\n",
    "    'http://www.dailykos.com/story/2017/04/23/1655598/-Earth-Day',\n",
    "    'http://www.dailykos.com/story/2017/04/23/1655540/-Government-shutdowns-A-relevant-little-history-lesson',\n",
    "    'http://www.dailykos.com/story/2017/04/23/1655478/-So-Trump-wants-a-trade-war-But-is-pissed-when-Canada-makes-the-first-move',\n",
    "    'http://www.dailykos.com/story/2017/04/23/1655597/-Chuck-Todd-asks-Dem-Leader-Nancy-Pelosi-a-dumb-question-she-slams-while-calling-out-Trump-s-weakness',\n",
    "    'http://www.dailykos.com/story/2017/04/23/1655588/-Report-Ryan-giving-up-on-GOP-s-top-two-issues'\n",
    "    ]\n",
    "\n",
    "n = 0\n",
    "for url in urls:\n",
    "    articles['kos_%02d' % n] = kos_scraper(url)\n",
    "    n += 1 "
   ]
  },
  {
   "cell_type": "code",
   "execution_count": 48,
   "metadata": {
    "collapsed": false
   },
   "outputs": [
    {
     "name": "stdout",
     "output_type": "stream",
     "text": [
      "fox_00 :  president trump on tuesday signed an executive order that will make it harder for american tech companies to hire employees from foreign countries willing to work for less money than americans. trump signed the “buy american hire american” order during his visit to the snap on tools headquarters in kenosha wis. the president called the order “bold new steps” toward making good on his campaign promises to generate more jobs for out of work americans. trump called the order “a powerful signal to the world” that “finally puts america first.” “we are finally standing up for our workers and our companies” trump said. the order targets the h{DG} b visa program which allows u.s. companies to employ graduate level workers in specialty occupations like it engineering mathematics and science. among other changes the white house wants to end the h{DG} b lottery system and replace it with a merit based one   though it’s unclear exactly what criteria they would use.   “we’re going to switch away from a random lottery system in which it’s weighted toward the lowest wage workers towards a system that prioritizes higher skilled higher paid workers which would make it much more difficult to use it to replace american workers” a senior administration official said monday.   each year on april {DG} a fresh cap for h{DG} b visa applications is set by u.s. citizenship and immigration services. under the current system applications are then randomly selected in a lottery system. trump’s order also empowers federal agencies to reexamine loopholes in the government’s procurement process. specifically they would look into whether waivers in free trade agreements are leading to unfair trade by companies outside the u.s. and whether it undercuts american companies on a global playing field. on the campaign trail trump repeatedly vilified companies that looked to hire foreign workers. he vowed to end the h{DG} b program which he said allowed big business to fire americans and replace them with foreigners. currently the government’s h {DG}b visa program admits {DG} immigrants in each year to handle high tech jobs. the number of application for h{DG} b visas fell to {DG} this year from {DG} in {DG} and {DG} in {DG} according to u.s. citizenship and immigration services. trump’s order also requires applicants and their employers to demonstrate that the hb {DG} visas awards will only go to the most highly skilled workers in their fields. trump has come under fire for not practicing what he preaches. while he has pledged to support american goods and workers some of his trump branded products are made overseas or made by foreign workers. the president  also has been accused of looking the other way when his son eric trump asked to bring in {DG} workers to work at trump vineyard estates through the federal h {DG}a visa program. that program enables agricultural employers to bring in seasonal foreign workers. according to filings job orders for trump vineyard estates say the primary tasks include planting and cultivating vines adding grow tubes and pruning grape vines. during his wide ranging speech trump also promised to fix the nation’s crumbling infrastructure beef up trade deals tweak the tax code and pass a new health care bill that will replace and repeal obamacare. he also said he wanted to work with lawmakers on getting wisconsin dairy workers to get into the canadian market.      \n",
      "\n",
      "nyt_00 : the problem was that the carrier the carl vinson and the three other warships in its strike force were that very moment sailing in the opposite direction to take part in joint exercises with the australian navy in the indian ocean {DG} miles southwest of the korean peninsula.white house officials said tuesday that they had been relying on guidance from the defense department. officials there described a glitch ridden sequence of events from an ill timed announcement of the deployment by the military’s pacific command to a partially erroneous explanation by the defense secretary jim mattis — all of which perpetuated the false narrative that a flotilla was racing toward the waters off north korea.with mr. trump himself playing up the show of force pentagon officials said rolling back the story became difficult.now the carl vinson is finally on a course for the korean peninsula expected to arrive in the region next week according to defense department officials. white house officials declined to comment on the confusion referring questions to the pentagon. “sean discussed it once when asked and it was all about process” a spokesman michael short said of mr. spicer.privately however other officials expressed bewilderment that the pentagon did not correct its timeline particularly given the tensions in the region and the fact that mr. spicer as well as the national security adviser lt. gen. h. r. mcmaster were publicly answering questions about it.“the ship is now moving north to the western pacific” the pentagon’s chief spokeswoman dana white said tuesday. “this should have been communicated more clearly at the time.”given the timing it hardly needed to mr. trump had just wrapped up a two day summit meeting with mr. xi at his palm beach club mar a lago with a message that the united states had run out of patience with north korea’s dictator kim jong un and its nuclear and missile programs.that sunday general mcmaster told fox news that the deployment was a “prudent” move designed to give the president “a full range of options to remove” the threat posed by mr. kim.what the navy did not say was that the carl vinson had to carry out another mission before it set sail north a long scheduled joint exercise with the australian navy in the indian ocean.“i don’t call audibles with aircraft carriers” he said using a football metaphor to reject the midcourse correction.by all accounts mr. trump is less worried than mr. obama about making such calls on the fly. his aides have praised this unpredictability as a virtue in dealing with rogue leaders in north korea and syria.in south korea though fears of a full blown war erupted. the government rushed to reassure the public that the carl vinson was coming only to deter north korean provocations. april {DG} is the birthday of kim il sung the nation’s founder and the grandfather of kim jong un — an occasion the north typically uses to conduct celebratory weapons tests.“a carrier group is several things” mr. spicer replied. “the forward deployment is deterrence presence.” he added “i think when you see a carrier group steaming into an area like that the forward presence of that is clearly through almost every instance a huge deterrence.”mr. spicer did not point out that the carl vinson was not in fact steaming into the area and would not be for {DG} more days. a senior administration official said the press secretary was using talking points supplied by the pentagon. he was discussing the rationale for sending a carrier this official said not confirming the ship’s schedule.an hour after mr. spicer left the podium mr. mattis the defense secretary reinforced the perception of ships racing to the scene. speaking at the pentagon he said the navy disclosed the carl vinson’s itinerary in advance because the exercise with the australians had been canceled. “we had to explain why she wasn’t in that exercise” he said.mr. mattis however had conflated two things admiral harris had canceled only a port call for the carl vinson in fremantle australia according to pentagon officials because he feared that images of sailors on shore leave would be unseemly at a time when north korea was firing missiles.navy officials said admiral harris never meant to suggest he was canceling the naval exercise. organizing such exercises is a complicated effort that takes months. one official described it as a high end exercise raising the possibility that the two navies practiced scenarios to counter china or tested new missile defenses or cyberoperations.some officials expressed irritation with admiral harris saying he did not think through the consequences of announcing the deployment of an aircraft carrier during a period of high tension.mr. mattis sent mixed signals about the mission. he stressed the need for the navy to operate freely in the pacific but added “there’s not a specific demand signal or specific reason why we’re sending her up there.”after a week of war drums fueled by the reports of the oncoming armada tensions subsided when the weekend passed with only a military parade in pyongyang and a failed missile test. \n",
      "\n",
      "twp_00 : the message was defiantly optimistic like a suitor determined to hold a relationship together despite mounting obstacles. “things will work out fine between the u.s.a. and russia” ­president trump declared on his twitter account last week. “at the right time everyone will come to their senses &amp; there will be lasting peace!” trump’s interest in achieving warm relations with moscow has been a consistent theme since the earliest days of his campaign and it stands now as one of the few major foreign policy positions that he has not discarded or revised since taking office. but in his devotion to this outcome trump appears increasingly isolated within his own administration. over the past several weeks senior members of trump’s national security team have issued blistering critiques of moscow using harsh terms that have led to escalating tensions between the countries and that seem at odds with the president. the harsh rhetoric — and the apparent lack of any rebuke from trump — suggests that russian skeptics have gained influence in the administration making the rapprochement that trump envisioned seem increasingly remote. in a speech at the united nations u.s. ambassador nikki haley lashed out at russia for its role in syria asking “how many more children have to die before russia cares” enough to prevent syrian president bashar al assad from committing further atrocities. secretary of state rex tillerson accused russia of being “incompetent or complicit” in the chemical weapons attack that killed dozens of syrian civilians. cia director mike pompeo went even further in an appearance at the center for strategic and international studies in washington last week depicting moscow as an unredeemable adversary. though trump has repeatedly praised russian president vladi­mir putin pompeo described him as “a man for whom ‘veracity’ doesn’t translate into english.” the statements have created confusion about the trump administration’s posture toward russia and put senior officials including haley in the awkward position of having to explain why trump has yet to echo any of their strong words. the white house did not respond to requests for comment. foreign policy experts close to the administration played down the apparent disconnect between trump’s statements and those of his national security subordinates saying that trump’s words about russia were often misinterpreted to signal that he intended to be soft. “there was never anything in the plan about being nice to the russians” said james carafano the vice president of foreign and defense policy at the heritage foundation who served as an adviser to trump during the campaign and post election transition. “i don’t think any of this is a u turn a reversal or a shift” carafano said. he noted that trump’s decision to bomb an airstrip in syria where the russian military had worked with assad’s forces and trump’s recent vocal support for nato demonstrate his willingness to defy putin.  “trump doesn’t have to do russia bashing” and is probably seeking to leave an opening for putin to pursue better relations with the united states carafano said. “the fact that trump’s officials are not mimicking the exact same words doesn’t mean they’re not on the same sheet of music.” in recent weeks trump has had opportunities to reinforce the messages of his subordinates. in a news conference with nato secretary general jens stoltenberg this month trump said relations with moscow “may be at an all time low” but described russia as “a strong country” and said “we’re going to see how that all works out.” asked about growing concerns in europe over alleged moscow interference in elections and calls for bolstering europe’s military defenses trump had no words of caution for the kremlin. “right now there is a fear and there are problems” trump said. “but ultimately i hope that there won’t be a fear and there won’t be problems and the world can get along. that would be the ideal situation.” trump’s tack with russia seems at odds with his approach toward other global powers and issues. he threatened to label china a currency manipulator and to cut off u.s. support for nato for example before retreating from those positions in recent weeks. trump’s posture toward moscow is also seen as a reflection of his reluctance to acknowledge that russia interfered in the u.s. election and based on the consensus view of u.s. intelligence agencies sought to help him win. critics said the administration’s competing messages have caused concern overseas. rep. adam b. schiff calif. the ranking democrat on the house intelligence committee said that he recently attended a security conference in munich where there were “profound questions among our allies about just where this administration is coming from.” “they don’t see the president yet willing to take on putin or to criticize him directly” schiff said. “it doesn’t matter what others in his cabinet said. if they didn’t hear it from the president they didn’t really believe it was administration policy.” senior administration officials have struggled to explain the disparity in their comments — including statements suggesting that russia may have known that assad was about to launch a chemical weapons attack — with those of the president. “i think we’re both saying the same thing; it’s just being reported differently” haley said during an interview on abc news this month. pressed on why trump has not condemned moscow haley said “this is what i can tell you the president has not once called me and said ‘don’t beat up on russia’ has not once called me and told me what to say.” trump’s national security adviser h.r. mcmaster faced similar questions in a separate abc interview this week when asked how the president could be so confident that “things will work out fine” and predict “lasting peace.” “well” mcmaster quipped “when relations are at the lowest point there’s nowhere to go but up.” mcmaster has helped form the administration’s more combative stance toward moscow. he replaced michael flynn who seemed to share trump’s interest in pursuing closer relations with moscow before flynn was fired for his misleading statements about his contacts with the russian ambassador. juan zarate a former national security official who advised pompeo during his confirmation as cia chief said that he sees trump’s continued conciliatory messages toward moscow as a means of preserving options for the administration in its dealings with russia. “i worry less about what appears to be some discordance because i think you can have flexibility in messaging” zarate said. “but you do have to have consistency in policy. for now it seems like we do. in fact the policy seems to be getting more vigorous and confrontational.” but zarate also noted trump’s tendency to “double down on positions.” trump was criticized for seeming lenient toward moscow “and lo and behold he’s going to stick to his line.” moscow has also noticed the administration’s competing messages. after a series of sharp exchanges with senior u.s. officials russian foreign minister sergei lavrov said this week that moscow would focus on signals from the president. “we will be guided by what president donald trump once again confirmed . . . that he wants to improve relations with the russian federation” lavrov said. “we are also ready for that.” \n",
      "\n",
      "apr_00 :           paris        ap    centrist emmanuel macron and far right populist marine le pen advanced sunday to a runoff in france presidential election remaking the country political landscape and setting up a showdown over its participation in the european union. french politicians on the left and right immediately urged voters to block le pen path to power in the may {DG} runoff saying her virulently nationalist anti eu and anti immigration politics would spell disaster for france. extremism can only bring unhappiness and division to france defeated conservative candidate francois fillon said. as such there is no other choice than to vote against the extreme right. the selection of le pen and macron presented voters with the starkest possible choice between two diametrically opposed visions of the eu future and france place in it. it set up a battle between macron optimistic vision of a tolerant france a united europe with open borders against le pen darker inward looking platform that called for closed borders tougher security less immigration and dropping the shared euro currency to return to the french franc. with le pen wanting france to leave the eu and macron wanting even closer cooperation between the bloc {DG} nations sunday outcome meant the may {DG} runoff will have undertones of a referendum on france eu membership. the absence in the runoff of candidates from either the mainstream left socialists or the right wing republicans party   the two main groups that have governed post war france   also marked a seismic shift in french politics. macron a {DG} year old investment banker made the runoff on the back of a grassroots campaign without the support of a major political party. with {DG} percent of the vote counted the interior ministry said sunday night that le pen had {DG} percent of the vote macron had {DG} percent fillon had {DG} percent and far right jean luc melenchon had {DG} percent. melenchon refused to cede defeat.  in a defiant speech to supporters he said he would continue to await the results from france cities. the early vote count includes primarily rural constituencies that lean to the right. le pen in a chest thumping speech to cheering supporters sunday night declared that she embodies the great alternative for french voters. she portrayed her duel with macron as a battle between patriots and wild deregulation   warning of job losses overseas mass migration straining resources at home and the free circulation of terrorists. the time has come to free the french people she said at her election day headquarters in the northern french town of henin beaumont adding that nothing short of the survival of france will be at stake in the presidential runoff. her supporters burst into a rendition of the french national anthem chanted we will win! and waved french flags and blue flags with marine president inscribed on them. in paris protesters angry at le pen advance   some from anarchist and anti fascist groups   scuffled with police. officers fired tear gas to disperse the rowdy crowd. macron supporters at his election day headquarters in paris went wild as polling agency projections showed the ex finance minister making the runoff cheering singing la marseillaise anthem waving french tricolor and european flags and shouting macron president! mathilde jullien {DG} said she is convinced macron will beat le pen and become france next president. he represents france future a future within europe she said. he will win because he is able to unite people from the right and the left against the threat of the national front and he proposes real solutions for france economy. fillon said he would vote for macron on may {DG} because le pen program would bankrupt france and throw the eu into chaos. he also cited the history of violence and intolerance of le pen far right national front party founded by her father jean marie le pen who was trounced in the presidential runoff in {DG}. in a brief televised message after the last polling stations closed socialist prime minister bernard cazeneuve urged voters to back macron to beat the national front funereal project of regression for france and of division of the french. socialist presidential candidate benoit hamon who was far behind in sunday results quickly conceded defeat. declaring the left is not dead! he also urged supporters to back macron. voting took place amid heightened security in the first election under france state of emergency which has been in place since gun and bomb attacks in paris in {DG}. polling agency projections for the overall race showed macron in the lead with between {DG} and {DG} percent support followed by le pen with between {DG} and {DG} percent.     elaine ganley and alex turnbull in henin beaumont chris den hond in le touquet angela charlton raphael satter samuel petrequin nicolas vaux montagny sylvie corbet nadine achoui lesage and philippe sotto in paris and brian rohan in cairo contributed to this report. © {DG} the associated press.  all rights reserved.  this material may not be published broadcast rewritten or redistributed.  learn more about our privacy policy and terms of use. \n",
      "\n",
      "kos_00 : late on thursday a federal district court struck down the state house map that texas republicans drew in {DG} on the grounds that it intentionally engaged in racial discrimination in violation of the voting rights act the {DG}th amendment and the “one person one vote” principle. this major voting rights victory could subsequently result in republican legislators having to draw a new map for the {DG} elections that would give black and latino voters the ability to elect their preferred candidates in more districts most likely democrats. thursday’s ruling follows two separate recent court decisions that invalidated the texas gop’s congressional map and strict voter id law and all three crucially held that republicans intentionally racially discriminated. this illicit racial intent could be grounds for forcing texas to seek justice department approval for all new voting law changes for up to ten years which it previously had to do until the supreme court struck down a key part of the voting rights act in {DG}. while attorney general jeff sessions is unlikely to block new oppressive voting laws a future democratic administration could. making matters more complicated federal courts had blocked the {DG} map from taking effect in full imposing temporary changes ahead of the {DG} cycle that still largely left the original gerrymander in place. however republican legislators later passed a new plan in {DG} to make most of those changes permanent. that means there will have to be a separate legal challenge to that plan too since it’s the one currently in existence but that litigation should be much easier and quicker if thursday’s ruling against the original {DG} map stands. absurdly this case has been ongoing ever since {DG} and litigants completed their arguments all the way back in {DG}. plaintiffs had rightly been outraged that the court was dragging its feet on issuing its ruling. republicans have potentially gotten away with an illegal racial gerrymander for a majority of this decade demonstrating how it pays to illegally gerrymander since the court of course can’t invalidate the last three election results held under the existing map. there’s still a long way to go before this litigation concludes and it infuriatingly still might not be over in time to affect the {DG} elections. this ruling will also have to survive a likely appeal to the supreme court but given swing justice anthony kennedy’s frequent recent hostility to racial gerrymandering there’s a good chance of success. if the plaintiffs ultimately prevail texas could end up with new state house districts that increase representation for black and latino voters and consequently democrats too.            site content may be used for any purpose without           explicit permission unless otherwise specified.          “kos” and “daily kos” are registered trademarks of          kos media llc.         \n",
      "\n"
     ]
    }
   ],
   "source": [
    "# Working output: dictionary of articles from NYT, Fox, Washington Post\n",
    "for key in ['fox_00', 'nyt_00', 'twp_00', 'apr_00', 'kos_00']:\n",
    "    print (key, ':',articles[key],'\\n')"
   ]
  },
  {
   "cell_type": "code",
   "execution_count": 209,
   "metadata": {
    "collapsed": true
   },
   "outputs": [],
   "source": [
    "# non-working attempts"
   ]
  },
  {
   "cell_type": "code",
   "execution_count": 35,
   "metadata": {
    "collapsed": false,
    "scrolled": true
   },
   "outputs": [
    {
     "data": {
      "text/plain": [
       "'[Trump said, “We’re doing very well on health care. We’ll see what happens. This is a great bill. There’s a great plan, and this will be great health care. It’s evolving. there was never a give-up. The press sort of reported there was like a give-up. There’s no give-up. We started. remember it took Obamacare 17 months.”, “I’ve really been negotiating this for two months, maybe even less than that because we had a 30-day period where we did lots of other things, the first 30 days, but this has really been two months. This is a continuation. The plan gets better and better and better, and it’s gotten really, really good and a lot of people are liking it a lot. We have a good chance of getting it soon. I’d like to say next week but I believe we will get it. Whether it’s next week or shortly thereafter.”, Send A Tip, Send A Tip, advertisement, Copyright © 2017 Breitbart, Copyright © 2017 Breitbart]'"
      ]
     },
     "execution_count": 35,
     "metadata": {},
     "output_type": "execute_result"
    }
   ],
   "source": [
    "# Breitbart ; can't figure this out\n",
    "\n",
    "url = 'http://www.breitbart.com/video/2017/04/20/trump-never-give-health-care-will-great-health-care/'\n",
    "r = urllib.request.urlopen(url)\n",
    "soup = BeautifulSoup(r, 'html.parser')\n",
    "tags = soup.find_all(\"p\", text = True)\n",
    "article_text = re.sub(\"<[^>]*>\", \"\", str(tags), flags=re.MULTILINE)\n",
    "article_text = article_text.replace('<*>', '')\n",
    "article_text"
   ]
  },
  {
   "cell_type": "code",
   "execution_count": 142,
   "metadata": {
    "collapsed": false
   },
   "outputs": [
    {
     "name": "stdout",
     "output_type": "stream",
     "text": [
      "[<div class=\"articleBody\" id=\"articleBody\" itemprop=\"articleBody\">\n",
      "<figure class=\"main_column featured horizontal attachment-large img-expandable landscape\" id=\"featured-item\">\n",
      "<a class=\"image\" href=\"http://www.newyorker.com/wp-content/uploads/2017/04/Davidson-FoxLostBillOReillyButItStillHasDonaldTrump-1200.jpg\" title=\"View larger\"><img alt=\"Bill O’Reilly filled a need for Fox News, as it built its brand and its culture. But, in the Trump era, it doesn’t really require him for that anymore.\" class=\"horizontal attachment-large img-expandable landscape lazyload\" data-id=\"3340600\" data-ratio=\"1.500\" itemprop=\"image\" sizes=\"(max-width: 690px) 100vw, 690px\" src=\"http://www.newyorker.com/wp-content/uploads/2017/04/Davidson-FoxLostBillOReillyButItStillHasDonaldTrump-690.jpg\" srcset=\"http://www.newyorker.com/wp-content/uploads/2017/04/Davidson-FoxLostBillOReillyButItStillHasDonaldTrump-690.jpg 690w, http://www.newyorker.com/wp-content/uploads/2017/04/Davidson-FoxLostBillOReillyButItStillHasDonaldTrump-320.jpg 320w, http://www.newyorker.com/wp-content/uploads/2017/04/Davidson-FoxLostBillOReillyButItStillHasDonaldTrump-768.jpg 768w, http://www.newyorker.com/wp-content/uploads/2017/04/Davidson-FoxLostBillOReillyButItStillHasDonaldTrump-200.jpg 200w, http://www.newyorker.com/wp-content/uploads/2017/04/Davidson-FoxLostBillOReillyButItStillHasDonaldTrump-400.jpg 400w, http://www.newyorker.com/wp-content/uploads/2017/04/Davidson-FoxLostBillOReillyButItStillHasDonaldTrump-800.jpg 800w, http://www.newyorker.com/wp-content/uploads/2017/04/Davidson-FoxLostBillOReillyButItStillHasDonaldTrump-500.jpg 500w, http://www.newyorker.com/wp-content/uploads/2017/04/Davidson-FoxLostBillOReillyButItStillHasDonaldTrump-600.jpg 600w, http://www.newyorker.com/wp-content/uploads/2017/04/Davidson-FoxLostBillOReillyButItStillHasDonaldTrump-1000.jpg 1000w, http://www.newyorker.com/wp-content/uploads/2017/04/Davidson-FoxLostBillOReillyButItStillHasDonaldTrump-1200.jpg 1200w, http://www.newyorker.com/wp-content/uploads/2017/04/Davidson-FoxLostBillOReillyButItStillHasDonaldTrump-640.jpg 640w\"/></a> <figcaption class=\"caption\">\n",
      "<span class=\"caption-text\">Bill O’Reilly filled a need for Fox News, as it built its brand and its culture. But, in the Trump era, it doesn’t really require him for that anymore.</span><span class=\"credit\" title=\"PHOTOGRAPH BY JOE ROBBINS / GETTY\"><span class=\"hideFromView\">Credit</span>PHOTOGRAPH BY JOE ROBBINS / GETTY</span> </figcaption>\n",
      "</figure>\n",
      "<!-- Barrier Status: 'none' --><a class=\"tny-slot\" data-total-words=\"0\" name=\"/2\"></a><a class=\"tny-page\" data-total-words=\"0\" name=\"/1\"></a><p class=\"descender\" data-wc=\"262\" word_count=\"262\">There was a time, in the clouded days of January, 2016, before the Iowa caucuses, when Donald Trump was very angry at Fox News—or, rather, at a woman at Fox News, Megyn Kelly, who, he thought, had forgotten her place. Kelly had asked him, during the first Republican-primary debate, a few months earlier, about his demonstrable record of misogyny, and so he had refused to appear in an upcoming debate that the network was hosting, and of which Kelly would be a moderator. Trump talked about boycotting Fox altogether, but he was willing to go on Bill O’Reilly’s show, to be cajoled and flattered, and to deride Kelly. (“I have zero respect for Megyn Kelly. I don’t think she’s very good at what she does. I think she’s highly overrated.”) At the time, there was more than one sexual-harassment suit pending that involved O’Reilly’s treatment of his female colleagues, and <a href=\"http://www.washingtontimes.com/news/2016/mar/2/bill-oreilly-loses-custody-of-his-children/\" target=\"_blank\">a custody case that O’Reilly lost</a> several weeks later, after, according to press reports, one of his daughters told a court examiner that she had seen him choking her mother and dragging her down a flight of stairs. (O’Reilly denied the abuse, as he has other charges of wrongdoing.) But none of that seems to have given O’Reilly any inkling that he might, in this very public setting, want to be seen as standing up for a colleague. Instead, he tried to persuade Trump that he should do the debate, because it would give him another chance to insult Kelly in person.</p> <p data-wc=\"223\" word_count=\"223\">“You have, in this debate format, the upper hand,” O’Reilly told Trump. “You have sixty seconds right off the top to tell any of the moderators, ‘You’re a pinhead, your question is unfair, and here’s why, and here’s what I want to say.’ ” Again and again, he told Trump how “strong” he would look when he put the moderators down; how strong Trump was, in general; and that Americans deserved the chance to witness Trump’s strength. The closest O’Reilly came to defending Kelly was when he said that the general substance of her question hadn’t been entirely out of bounds, though he would have asked it a very different way. Otherwise, he responded to the trashing of his colleague with a reminder to Trump that the two of them had a social bond—“I bought you so many vanilla milkshakes”—that should be factored into Trump’s decision to do something that might harm Fox. O’Reilly concluded by praising Trump for being there and for just being Trump: “I don’t know any politician under these circumstances that would have come on in here and done what you did tonight. I just don’t know any.” Spending fifteen minutes with your core audience is not exactly bravery, but Trump had no problem taking the compliment.</p><div class=\"content-ad-wrapper first\"><div class=\"advertisement\" data-ismobile=\"true\" data-kw=\"topBox\" data-name=\"yrailTop\" data-sz=\"320x251\"><div class=\"displayAd displayAd320x251Js\" data-cb-ad-id=\"yrailTop320x251_frame\" id=\"yrailTop320x251_frame\"></div></div><div class=\"advertisement\" data-ismobile=\"false\" data-kw=\"topBox\" data-name=\"yrailTop\" data-sz=\"300x250\"><div class=\"displayAd displayAd300x250Js\" data-cb-ad-id=\"yrailTop300x250_frame\" id=\"yrailTop300x250_frame\"></div></div></div> <p data-wc=\"100\" word_count=\"100\">“And, by the way, this is much tougher than the debate,” Trump said. “Bill, this is much tougher being with you, because frankly, <em>you’re smarter</em>. This is much tougher than doing the debate with Megyn Kelly, believe me.” “Well, that’s why you should do it and have fun tomorrow night,” O’Reilly replied. It could all have served as a set piece illustrating the dismissiveness with which women fear that they will be treated, made much worse by imagining what O’Reilly and Trump might have said to each other once when the camera was not recording them.</p> <p data-wc=\"163\" word_count=\"163\">Gabriel Sherman, who has written definitive accounts of the network’s outrageous treatment of women, reported that the failure of O’Reilly and Fox News’s head, Roger Ailes, and other colleagues to defend Kelly was a turning point for her. “She felt she put herself out there,” a source <a href=\"http://nymag.com/daily/intelligencer/2016/09/how-fox-news-women-took-down-roger-ailes.html\" target=\"_blank\">told Sherman</a>—that is, attempted to act as something other than a propagandist in the debate. (Kelly hasn’t always been <a href=\"http://www.newyorker.com/news/amy-davidson/megyn-kellys-guide-to-surrendering-to-donald-trump\">consistent</a> in that regard.) In return, she was receiving death threats from Trump supporters. When, finally, last summer, Gretchen Carlson, a former co-host of “Fox and Friends,” filed a harassment suit against Ailes and the network, Kelly stood by her, instead of by her boss. Other women did, too. And the sheer number of stories made it increasingly impossible for Fox News; its parent company, New Corp; and its main owners, the Murdoch family, to pretend that they were dealing with isolated incidents rather than with a toxic and hostile work environment.</p> <p data-wc=\"264\" word_count=\"264\"><a href=\"http://www.newyorker.com/news/daily-comment/fox-and-fiends-the-end-of-roger-ailes\">Ailes was forced out</a> in July, 2016, on a day when much of his team was in Cleveland, at the Republican National Convention, to herald Trump’s nomination. Two weeks ago, the <em>Times</em> <a href=\"https://www.nytimes.com/2017/04/01/business/media/bill-oreilly-sexual-harassment-fox-news.html\" target=\"_blank\">published a story about additional cases</a> involving O’Reilly; as with earlier reports, they appeared to reveal a man who believed that he had the right both to sexually impinge upon and to degrade the women he worked with—and, indeed, that for him those two modes of interacting with women were not entirely distinct. The <em>Times</em> reported that, over the years, the network paid at least thirteen million dollars to settle suits concerning O’Reilly’s behavior. O’Reilly’s <a href=\"https://www.billoreilly.com/g/Statement/868.html\" target=\"_blank\">response</a> to the story was to issue an attack on the character of the women who had had the temerity to complain—“individuals who want me to pay them to avoid negative publicity,” he called them. “The worst part of my job is being a target for those who would harm me and my employer, the Fox News Channel. Those of us in the arena are constantly at risk, as are our families and children.” The worst part of his job, actually, is the way that O’Reilly used the position to harm people around him and, through the politicians he helped elect, those he would never meet. O’Reilly repeated his complaint about being a target in a statement that he issued on Wednesday, after he lost his job while on vacation in Rome. The payout on his contract, which Fox News extended earlier this year, will, <a href=\"https://www.nytimes.com/2017/04/20/business/media/bill-oreilly-payout.html\" target=\"_blank\">reportedly</a>, be substantial.</p> <a class=\"tny-slot\" data-total-words=\"1012\" name=\"/3\"></a><a class=\"tny-page\" data-total-words=\"1012\" name=\"/2\"></a><p data-wc=\"221\" word_count=\"221\">What comes across most strongly, looking back on that Trump-O’Reilly interview, is the spectacle of two men ignoring the core problem raised by Trump’s comments about women: the effect of such views on women’s lives. That is who O’Reilly is and who Trump is. Their capacity for disdain is also, in large measure, a large part of what Fox News—and the wider conservative movement—long seemed to value in both of them. They offered crude showmanship, the stoking of resentments, the grumbling assumption that all liberals are idiots, and a political agenda that scorned and burdened the most vulnerable, in the manner of bullies, which both men are. Perhaps Bill O’Reilly filled a need for Fox News, as it built its brand and its culture. But it doesn’t really require him for that anymore. The network can always invite the President of the United States on, or just point a camera at him and let him speak. O’Reilly has lost his job, but Trump is just getting started with his. “I know Bill,” Trump said in an interview with the <em>Times</em>, after the paper had run the story about the settlements, which he thought never should have been paid. “Bill’s a good person. I don’t think Bill would do anything wrong.”</p> </div>]\n"
     ]
    }
   ],
   "source": [
    "# The New Yorker - this one doesn't work\n",
    "url = 'http://www.newyorker.com/news/amy-davidson/fox-lost-bill-oreilly-but-it-still-has-donald-trump?intcid=mod-latest'\n",
    "r = urllib.request.urlopen(url)\n",
    "soup = BeautifulSoup(r, 'html.parser')\n",
    "#tags = soup.find_all(\"p\", text=True)\n",
    "tags = soup.find_all ('div',class_= 'articleBody')\n",
    "print (tags)"
   ]
  },
  {
   "cell_type": "code",
   "execution_count": 46,
   "metadata": {
    "collapsed": false
   },
   "outputs": [
    {
     "data": {
      "text/plain": [
       "'late on thursday a federal district court struck down the state house map that texas republicans drew in {DG} on the grounds that it intentionally engaged in racial discrimination in violation of the voting rights act the {DG}th amendment and the “one person one vote” principle. this major voting rights victory could subsequently result in republican legislators having to draw a new map for the {DG} elections that would give black and latino voters the ability to elect their preferred candidates in more districts most likely democrats. thursday’s ruling follows two separate recent court decisions that invalidated the texas gop’s congressional map and strict voter id law and all three crucially held that republicans intentionally racially discriminated. this illicit racial intent could be grounds for forcing texas to seek justice department approval for all new voting law changes for up to ten years which it previously had to do until the supreme court struck down a key part of the voting rights act in {DG}. while attorney general jeff sessions is unlikely to block new oppressive voting laws a future democratic administration could. making matters more complicated federal courts had blocked the {DG} map from taking effect in full imposing temporary changes ahead of the {DG} cycle that still largely left the original gerrymander in place. however republican legislators later passed a new plan in {DG} to make most of those changes permanent. that means there will have to be a separate legal challenge to that plan too since it’s the one currently in existence but that litigation should be much easier and quicker if thursday’s ruling against the original {DG} map stands. absurdly this case has been ongoing ever since {DG} and litigants completed their arguments all the way back in {DG}. plaintiffs had rightly been outraged that the court was dragging its feet on issuing its ruling. republicans have potentially gotten away with an illegal racial gerrymander for a majority of this decade demonstrating how it pays to illegally gerrymander since the court of course can’t invalidate the last three election results held under the existing map. there’s still a long way to go before this litigation concludes and it infuriatingly still might not be over in time to affect the {DG} elections. this ruling will also have to survive a likely appeal to the supreme court but given swing justice anthony kennedy’s frequent recent hostility to racial gerrymandering there’s a good chance of success. if the plaintiffs ultimately prevail texas could end up with new state house districts that increase representation for black and latino voters and consequently democrats too.            site content may be used for any purpose without           explicit permission unless otherwise specified.          “kos” and “daily kos” are registered trademarks of          kos media llc.        '"
      ]
     },
     "execution_count": 46,
     "metadata": {},
     "output_type": "execute_result"
    }
   ],
   "source": [
    "# Daily kos - also not quite working\n",
    "url = 'http://www.dailykos.com/stories/2017/4/20/1654826/-Victory-Court-strikes-down-Texas-GOP-drawn-state-House-gerrymander-over-racial-discrimination'\n",
    "r = urllib.request.urlopen(url)\n",
    "soup = BeautifulSoup(r, 'html.parser')\n",
    "tags = soup.find_all('p')\n",
    "article_text = re.sub(\"<[^>]*>\", \"\", str(tags), flags=re.MULTILINE)\n",
    "article_text = re.sub('\\r\\n*', '', article_text, flags=re.MULTILINE)\n",
    "article_text = article_text.replace('\\xa0',' ')\n",
    "article_text = clean_article(article_text)\n",
    "article_text\n"
   ]
  },
  {
   "cell_type": "code",
   "execution_count": 177,
   "metadata": {
    "collapsed": false
   },
   "outputs": [
    {
     "data": {
      "text/plain": [
       "[<p class=\"edition-picker__radio-button-label\">Set edition preference:</p>,\n",
       " <p class=\"edition-picker__radio-button-label\">Set edition preference:</p>,\n",
       " <p class=\"edition-picker__radio-button-label\">Set edition preference:</p>,\n",
       " <p class=\"metadata__byline\"><span class=\"metadata__byline__author\">By John Everard</span></p>,\n",
       " <p class=\"metadata__show\"></p>,\n",
       " <p class=\"update-time\">Updated 12:03 AM ET, Thu April 20, 2017 <span class=\"video__source top_source\" id=\"js-pagetop_video_source\"></span></p>,\n",
       " <p>Chat with us in Facebook Messenger. Find out what's happening in the world as it unfolds.</p>,\n",
       " <p class=\"zn-body__paragraph\"><q class=\"el-editorial-note\">John Everard is a former British ambassador to North Korea. The opinions in this article belong solely to the author.</q></p>,\n",
       " <p class=\"zn-body__paragraph\"><cite class=\"el-editorial-source\"> (CNN)</cite>Saturday, the 105th birthday of Kim Il Sung, known as North Korea's Eternal President, was tense.  </p>,\n",
       " <p class=\"metadata__source\"><span class=\"metadata__source-name\"></span></p>,\n",
       " <p class=\"zn-body__paragraph zn-body__footer\"></p>]"
      ]
     },
     "execution_count": 177,
     "metadata": {},
     "output_type": "execute_result"
    }
   ],
   "source": [
    "# CNN - not working\n",
    "url = 'http://www.cnn.com/2017/04/19/opinions/trump-north-korea-everard-opinion/index.html'\n",
    "r = urllib.request.urlopen(url)\n",
    "soup = BeautifulSoup(r, 'html.parser')\n",
    "soup.find_all(\"p\")#,class_ = 'body__paragraph')#, id=\"storytext\")"
   ]
  },
  {
   "cell_type": "code",
   "execution_count": 91,
   "metadata": {
    "collapsed": false,
    "scrolled": true
   },
   "outputs": [
    {
     "data": {
      "text/plain": [
       "dict_keys(['twp_03', 'nyt_05', 'fox_01', 'fox_09', 'nyt_00', 'nyt_07', 'nyt_03', 'fox_05', 'twp_01', 'nyt_08', 'fox_06', 'nyt_04', 'fox_08', 'nyt_02', 'fox_07', 'fox_00', 'nyt_10', 'nyt_06', 'fox_02', 'fox_03', 'nyt_09', 'twp_02', 'fox_04', 'twp_00', 'nyt_01'])"
      ]
     },
     "execution_count": 91,
     "metadata": {},
     "output_type": "execute_result"
    }
   ],
   "source": [
    "articles.keys()"
   ]
  }
 ],
 "metadata": {
  "kernelspec": {
   "display_name": "Python 3",
   "language": "python",
   "name": "python3"
  },
  "language_info": {
   "codemirror_mode": {
    "name": "ipython",
    "version": 3
   },
   "file_extension": ".py",
   "mimetype": "text/x-python",
   "name": "python",
   "nbconvert_exporter": "python",
   "pygments_lexer": "ipython3",
   "version": "3.4.5"
  }
 },
 "nbformat": 4,
 "nbformat_minor": 0
}
